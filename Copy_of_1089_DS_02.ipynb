{
  "cells": [
    {
      "cell_type": "markdown",
      "metadata": {
        "id": "view-in-github",
        "colab_type": "text"
      },
      "source": [
        "<a href=\"https://colab.research.google.com/github/SathvikaVanaparthy/1089/blob/main/Copy_of_1089_DS_02.ipynb\" target=\"_parent\"><img src=\"https://colab.research.google.com/assets/colab-badge.svg\" alt=\"Open In Colab\"/></a>"
      ]
    },
    {
      "cell_type": "markdown",
      "metadata": {
        "id": "Za418w_5lMhn"
      },
      "source": [
        "# Internship on Data Science at InfraBIM\n",
        "**DS-02: Assignment - Descriptive Analysis on Interns Screening Test Performance**"
      ]
    },
    {
      "cell_type": "markdown",
      "metadata": {
        "id": "Uj51lvk8lMhs"
      },
      "source": [
        "Team No.:<br>\n",
        "Reg. No.:1089<br>\n",
        "Name:Vanaparthy Sathvika<br>\n",
        "Date:25 oct,2022"
      ]
    },
    {
      "cell_type": "code",
      "execution_count": null,
      "metadata": {
        "id": "3Dh21C3cJNzB"
      },
      "outputs": [],
      "source": [
        "# Import Libraries\n",
        "import pandas as pd "
      ]
    },
    {
      "cell_type": "markdown",
      "metadata": {
        "id": "6MIgCvrpbb7H"
      },
      "source": [
        "**Loading Dataset**"
      ]
    },
    {
      "cell_type": "code",
      "execution_count": null,
      "metadata": {
        "colab": {
          "base_uri": "https://localhost:8080/"
        },
        "id": "xn2mEFJclMhv",
        "outputId": "5046b866-1bb0-48f4-824e-4a64d06ed8ec"
      },
      "outputs": [
        {
          "output_type": "stream",
          "name": "stdout",
          "text": [
            "     EnrollmentNo  QuizId  Correct  TimeTaken\n",
            "0               1     187       15         18\n",
            "1               2     187       17         12\n",
            "2               3     187       13         11\n",
            "3               4     187       18          3\n",
            "4               5     187       17          5\n",
            "..            ...     ...      ...        ...\n",
            "236           237     189       14         12\n",
            "237           238     189       13          6\n",
            "238           239     189       13         18\n",
            "239           240     189       13          4\n",
            "240           241     189       11         12\n",
            "\n",
            "[241 rows x 4 columns]\n"
          ]
        }
      ],
      "source": [
        "# Load the CSV Data into a DataFrame\n",
        "url = \"https://internships-data.s3.ap-south-1.amazonaws.com/Assignments/Data+Science/data/ScreeningTest_18102022.csv\"\n",
        "df = pd.read_csv(url)\n",
        "print(df)"
      ]
    },
    {
      "cell_type": "markdown",
      "metadata": {
        "id": "1MBFT_7Cfrvy"
      },
      "source": [
        "**Q1. Identify Variables and their Types (Quantitative or Qualitative)**"
      ]
    },
    {
      "cell_type": "code",
      "execution_count": null,
      "metadata": {
        "colab": {
          "base_uri": "https://localhost:8080/"
        },
        "id": "oxcAv_KslMhw",
        "outputId": "00c059d8-657a-4798-ecc1-ba247fec30db"
      },
      "outputs": [
        {
          "output_type": "stream",
          "name": "stdout",
          "text": [
            "<class 'pandas.core.frame.DataFrame'>\n",
            "RangeIndex: 241 entries, 0 to 240\n",
            "Data columns (total 4 columns):\n",
            " #   Column        Non-Null Count  Dtype \n",
            "---  ------        --------------  ----- \n",
            " 0   EnrollmentNo  241 non-null    object\n",
            " 1   QuizId        241 non-null    int64 \n",
            " 2   Correct       241 non-null    int64 \n",
            " 3   TimeTaken     241 non-null    int64 \n",
            "dtypes: int64(3), object(1)\n",
            "memory usage: 7.7+ KB\n"
          ]
        }
      ],
      "source": [
        "df.info()"
      ]
    },
    {
      "cell_type": "markdown",
      "metadata": {
        "id": "DYww7xlSlMhx"
      },
      "source": [
        "**<font color='blue'>Q1. Answer </font>**\n",
        "<br>\n",
        "<b>Categorical Data:EnrollmentNo</b><br>\n",
        "<b>Numerical Data:QuizId,Correct,TimeTaken</b>"
      ]
    },
    {
      "cell_type": "code",
      "source": [
        "#converting integer datatype to string datatype\n",
        "df['EnrollmentNo']=df['EnrollmentNo'].apply(str)"
      ],
      "metadata": {
        "id": "QYKjVFAcwTdK"
      },
      "execution_count": null,
      "outputs": []
    },
    {
      "cell_type": "code",
      "source": [
        "df.info()"
      ],
      "metadata": {
        "colab": {
          "base_uri": "https://localhost:8080/"
        },
        "id": "T_TAanRMw5X5",
        "outputId": "362cb0fc-4cc9-45d2-be79-13d9931d6d63"
      },
      "execution_count": null,
      "outputs": [
        {
          "output_type": "stream",
          "name": "stdout",
          "text": [
            "<class 'pandas.core.frame.DataFrame'>\n",
            "RangeIndex: 241 entries, 0 to 240\n",
            "Data columns (total 4 columns):\n",
            " #   Column        Non-Null Count  Dtype \n",
            "---  ------        --------------  ----- \n",
            " 0   EnrollmentNo  241 non-null    object\n",
            " 1   QuizId        241 non-null    int64 \n",
            " 2   Correct       241 non-null    int64 \n",
            " 3   TimeTaken     241 non-null    int64 \n",
            "dtypes: int64(3), object(1)\n",
            "memory usage: 7.7+ KB\n"
          ]
        }
      ]
    },
    {
      "cell_type": "code",
      "source": [
        "#descriptive statistics of a dataset\n",
        "df.describe()"
      ],
      "metadata": {
        "colab": {
          "base_uri": "https://localhost:8080/",
          "height": 300
        },
        "id": "6z5Qu1tqzRIN",
        "outputId": "ae1ab035-c88f-4242-db5c-200ca23c8d30"
      },
      "execution_count": null,
      "outputs": [
        {
          "output_type": "execute_result",
          "data": {
            "text/plain": [
              "           QuizId     Correct   TimeTaken\n",
              "count  241.000000  241.000000  241.000000\n",
              "mean   187.493776   15.543568    9.730290\n",
              "std      0.742296    3.273500    4.943628\n",
              "min    187.000000    1.000000    0.000000\n",
              "25%    187.000000   14.000000    6.000000\n",
              "50%    187.000000   16.000000   10.000000\n",
              "75%    188.000000   18.000000   13.000000\n",
              "max    189.000000   20.000000   20.000000"
            ],
            "text/html": [
              "\n",
              "  <div id=\"df-fac0793a-9449-44bc-8954-49446b55b467\">\n",
              "    <div class=\"colab-df-container\">\n",
              "      <div>\n",
              "<style scoped>\n",
              "    .dataframe tbody tr th:only-of-type {\n",
              "        vertical-align: middle;\n",
              "    }\n",
              "\n",
              "    .dataframe tbody tr th {\n",
              "        vertical-align: top;\n",
              "    }\n",
              "\n",
              "    .dataframe thead th {\n",
              "        text-align: right;\n",
              "    }\n",
              "</style>\n",
              "<table border=\"1\" class=\"dataframe\">\n",
              "  <thead>\n",
              "    <tr style=\"text-align: right;\">\n",
              "      <th></th>\n",
              "      <th>QuizId</th>\n",
              "      <th>Correct</th>\n",
              "      <th>TimeTaken</th>\n",
              "    </tr>\n",
              "  </thead>\n",
              "  <tbody>\n",
              "    <tr>\n",
              "      <th>count</th>\n",
              "      <td>241.000000</td>\n",
              "      <td>241.000000</td>\n",
              "      <td>241.000000</td>\n",
              "    </tr>\n",
              "    <tr>\n",
              "      <th>mean</th>\n",
              "      <td>187.493776</td>\n",
              "      <td>15.543568</td>\n",
              "      <td>9.730290</td>\n",
              "    </tr>\n",
              "    <tr>\n",
              "      <th>std</th>\n",
              "      <td>0.742296</td>\n",
              "      <td>3.273500</td>\n",
              "      <td>4.943628</td>\n",
              "    </tr>\n",
              "    <tr>\n",
              "      <th>min</th>\n",
              "      <td>187.000000</td>\n",
              "      <td>1.000000</td>\n",
              "      <td>0.000000</td>\n",
              "    </tr>\n",
              "    <tr>\n",
              "      <th>25%</th>\n",
              "      <td>187.000000</td>\n",
              "      <td>14.000000</td>\n",
              "      <td>6.000000</td>\n",
              "    </tr>\n",
              "    <tr>\n",
              "      <th>50%</th>\n",
              "      <td>187.000000</td>\n",
              "      <td>16.000000</td>\n",
              "      <td>10.000000</td>\n",
              "    </tr>\n",
              "    <tr>\n",
              "      <th>75%</th>\n",
              "      <td>188.000000</td>\n",
              "      <td>18.000000</td>\n",
              "      <td>13.000000</td>\n",
              "    </tr>\n",
              "    <tr>\n",
              "      <th>max</th>\n",
              "      <td>189.000000</td>\n",
              "      <td>20.000000</td>\n",
              "      <td>20.000000</td>\n",
              "    </tr>\n",
              "  </tbody>\n",
              "</table>\n",
              "</div>\n",
              "      <button class=\"colab-df-convert\" onclick=\"convertToInteractive('df-fac0793a-9449-44bc-8954-49446b55b467')\"\n",
              "              title=\"Convert this dataframe to an interactive table.\"\n",
              "              style=\"display:none;\">\n",
              "        \n",
              "  <svg xmlns=\"http://www.w3.org/2000/svg\" height=\"24px\"viewBox=\"0 0 24 24\"\n",
              "       width=\"24px\">\n",
              "    <path d=\"M0 0h24v24H0V0z\" fill=\"none\"/>\n",
              "    <path d=\"M18.56 5.44l.94 2.06.94-2.06 2.06-.94-2.06-.94-.94-2.06-.94 2.06-2.06.94zm-11 1L8.5 8.5l.94-2.06 2.06-.94-2.06-.94L8.5 2.5l-.94 2.06-2.06.94zm10 10l.94 2.06.94-2.06 2.06-.94-2.06-.94-.94-2.06-.94 2.06-2.06.94z\"/><path d=\"M17.41 7.96l-1.37-1.37c-.4-.4-.92-.59-1.43-.59-.52 0-1.04.2-1.43.59L10.3 9.45l-7.72 7.72c-.78.78-.78 2.05 0 2.83L4 21.41c.39.39.9.59 1.41.59.51 0 1.02-.2 1.41-.59l7.78-7.78 2.81-2.81c.8-.78.8-2.07 0-2.86zM5.41 20L4 18.59l7.72-7.72 1.47 1.35L5.41 20z\"/>\n",
              "  </svg>\n",
              "      </button>\n",
              "      \n",
              "  <style>\n",
              "    .colab-df-container {\n",
              "      display:flex;\n",
              "      flex-wrap:wrap;\n",
              "      gap: 12px;\n",
              "    }\n",
              "\n",
              "    .colab-df-convert {\n",
              "      background-color: #E8F0FE;\n",
              "      border: none;\n",
              "      border-radius: 50%;\n",
              "      cursor: pointer;\n",
              "      display: none;\n",
              "      fill: #1967D2;\n",
              "      height: 32px;\n",
              "      padding: 0 0 0 0;\n",
              "      width: 32px;\n",
              "    }\n",
              "\n",
              "    .colab-df-convert:hover {\n",
              "      background-color: #E2EBFA;\n",
              "      box-shadow: 0px 1px 2px rgba(60, 64, 67, 0.3), 0px 1px 3px 1px rgba(60, 64, 67, 0.15);\n",
              "      fill: #174EA6;\n",
              "    }\n",
              "\n",
              "    [theme=dark] .colab-df-convert {\n",
              "      background-color: #3B4455;\n",
              "      fill: #D2E3FC;\n",
              "    }\n",
              "\n",
              "    [theme=dark] .colab-df-convert:hover {\n",
              "      background-color: #434B5C;\n",
              "      box-shadow: 0px 1px 3px 1px rgba(0, 0, 0, 0.15);\n",
              "      filter: drop-shadow(0px 1px 2px rgba(0, 0, 0, 0.3));\n",
              "      fill: #FFFFFF;\n",
              "    }\n",
              "  </style>\n",
              "\n",
              "      <script>\n",
              "        const buttonEl =\n",
              "          document.querySelector('#df-fac0793a-9449-44bc-8954-49446b55b467 button.colab-df-convert');\n",
              "        buttonEl.style.display =\n",
              "          google.colab.kernel.accessAllowed ? 'block' : 'none';\n",
              "\n",
              "        async function convertToInteractive(key) {\n",
              "          const element = document.querySelector('#df-fac0793a-9449-44bc-8954-49446b55b467');\n",
              "          const dataTable =\n",
              "            await google.colab.kernel.invokeFunction('convertToInteractive',\n",
              "                                                     [key], {});\n",
              "          if (!dataTable) return;\n",
              "\n",
              "          const docLinkHtml = 'Like what you see? Visit the ' +\n",
              "            '<a target=\"_blank\" href=https://colab.research.google.com/notebooks/data_table.ipynb>data table notebook</a>'\n",
              "            + ' to learn more about interactive tables.';\n",
              "          element.innerHTML = '';\n",
              "          dataTable['output_type'] = 'display_data';\n",
              "          await google.colab.output.renderOutput(dataTable, element);\n",
              "          const docLink = document.createElement('div');\n",
              "          docLink.innerHTML = docLinkHtml;\n",
              "          element.appendChild(docLink);\n",
              "        }\n",
              "      </script>\n",
              "    </div>\n",
              "  </div>\n",
              "  "
            ]
          },
          "metadata": {},
          "execution_count": 13
        }
      ]
    },
    {
      "cell_type": "markdown",
      "metadata": {
        "id": "6hjjV84DlMhx"
      },
      "source": [
        "**Q2. Size of Data (No. of Rows and Columns)**"
      ]
    },
    {
      "cell_type": "code",
      "source": [
        "df.shape"
      ],
      "metadata": {
        "colab": {
          "base_uri": "https://localhost:8080/"
        },
        "id": "rUdEjfwOxSNU",
        "outputId": "6e876982-74bb-4ec1-bcac-53a9f58d07e8"
      },
      "execution_count": null,
      "outputs": [
        {
          "output_type": "execute_result",
          "data": {
            "text/plain": [
              "(241, 4)"
            ]
          },
          "metadata": {},
          "execution_count": 11
        }
      ]
    },
    {
      "cell_type": "markdown",
      "metadata": {
        "id": "pVVPyMnvlMhy"
      },
      "source": [
        "**<font color='blue'>Q2. Answer </font>**\n",
        "<br>\n",
        "<b>Rows:241</b> <br>\n",
        "<b>Attributes:4</b>"
      ]
    },
    {
      "cell_type": "markdown",
      "metadata": {
        "id": "6aqAU2XzlMhz"
      },
      "source": [
        "**Q3. Create Histogram**"
      ]
    },
    {
      "cell_type": "code",
      "execution_count": null,
      "metadata": {
        "colab": {
          "base_uri": "https://localhost:8080/",
          "height": 390
        },
        "id": "PLlfKW86lMhz",
        "outputId": "d73bc190-46be-4358-d228-f4df7eddb607"
      },
      "outputs": [
        {
          "output_type": "execute_result",
          "data": {
            "text/plain": [
              "array([[<matplotlib.axes._subplots.AxesSubplot object at 0x7ff5a3d45e90>,\n",
              "        <matplotlib.axes._subplots.AxesSubplot object at 0x7ff5a3d02150>]],\n",
              "      dtype=object)"
            ]
          },
          "metadata": {},
          "execution_count": 15
        },
        {
          "output_type": "display_data",
          "data": {
            "text/plain": [
              "<Figure size 576x360 with 2 Axes>"
            ],
            "image/png": "[encoded data removed]"
          },
          "metadata": {
            "needs_background": "light"
          }
        }
      ],
      "source": [
        "# Generate Histogram - It is a graphical representation of a grouped frequency distribution with continuous classes\n",
        "df[['Correct','TimeTaken']].hist(figsize=(8,5),bins=10)"
      ]
    },
    {
      "cell_type": "markdown",
      "metadata": {
        "id": "gJY-6__PlMhz"
      },
      "source": [
        "**Q4. Create Pie-Chart to represent the Enrollments for each Internship Program**"
      ]
    },
    {
      "cell_type": "code",
      "execution_count": null,
      "metadata": {
        "colab": {
          "base_uri": "https://localhost:8080/",
          "height": 402
        },
        "id": "7PDnbep7lMh0",
        "outputId": "8d8ffc51-2e89-4dc8-d971-ed1e965e6121"
      },
      "outputs": [
        {
          "output_type": "display_data",
          "data": {
            "text/plain": [
              "<Figure size 432x288 with 1 Axes>"
            ],
            "image/png": "[encoded data removed]"
          },
          "metadata": {}
        }
      ],
      "source": [
        "import matplotlib.pyplot as plt\n",
        "Enrollments=df['QuizId'].value_counts()\n",
        "Labels=df['QuizId'].unique().tolist()\n",
        "plt.pie(Enrollments,labels=Labels,radius=2,autopct='%1.2f%%')\n",
        "plt.show()"
      ]
    },
    {
      "cell_type": "markdown",
      "metadata": {
        "id": "ZEZanCwGlMh0"
      },
      "source": [
        "**Q5. Find No. of Enrollments for each Internship Program**"
      ]
    },
    {
      "cell_type": "code",
      "execution_count": null,
      "metadata": {
        "colab": {
          "base_uri": "https://localhost:8080/"
        },
        "id": "5b0e2dCLlMh0",
        "outputId": "135fb824-cc07-42fa-bd17-cf4f942af2ce"
      },
      "outputs": [
        {
          "output_type": "stream",
          "name": "stdout",
          "text": [
            "187    158\n",
            "188     47\n",
            "189     36\n",
            "Name: QuizId, dtype: int64\n"
          ]
        }
      ],
      "source": [
        "print(Enrollments)\n"
      ]
    },
    {
      "cell_type": "code",
      "source": [
        "df.value_counts()"
      ],
      "metadata": {
        "colab": {
          "base_uri": "https://localhost:8080/"
        },
        "id": "sf_m_4zzf3IJ",
        "outputId": "bf6e493b-be14-4b41-8f62-98eabaa96ea1"
      },
      "execution_count": null,
      "outputs": [
        {
          "output_type": "execute_result",
          "data": {
            "text/plain": [
              "EnrollmentNo  QuizId  Correct  TimeTaken\n",
              "1             187     15       18           1\n",
              "122           187     14       8            1\n",
              "154           187     19       4            1\n",
              "155           187     19       3            1\n",
              "156           187     19       6            1\n",
              "                                           ..\n",
              "86            187     6        11           1\n",
              "87            187     19       7            1\n",
              "88            187     19       1            1\n",
              "89            187     19       2            1\n",
              "241           189     11       12           1\n",
              "Length: 241, dtype: int64"
            ]
          },
          "metadata": {},
          "execution_count": 81
        }
      ]
    },
    {
      "cell_type": "markdown",
      "metadata": {
        "id": "p0FCwK7FlMh0"
      },
      "source": [
        "**Q6. Find Measure of Central Tendency: MEAN, MEDIAN, MODE**"
      ]
    },
    {
      "cell_type": "code",
      "execution_count": null,
      "metadata": {
        "colab": {
          "base_uri": "https://localhost:8080/"
        },
        "id": "vJJtL3_flMh0",
        "outputId": "cc51c490-2ad6-4d61-c478-6874dd28f0c5"
      },
      "outputs": [
        {
          "output_type": "stream",
          "name": "stdout",
          "text": [
            "QuizId       187.493776\n",
            "Correct       15.543568\n",
            "TimeTaken      9.730290\n",
            "dtype: float64\n"
          ]
        }
      ],
      "source": [
        "# MEAN\n",
        "print(df.mean(numeric_only=True))"
      ]
    },
    {
      "cell_type": "code",
      "execution_count": null,
      "metadata": {
        "colab": {
          "base_uri": "https://localhost:8080/"
        },
        "id": "0FVvOaPAlMh1",
        "outputId": "a5a99628-1f26-4eb2-de38-d7a8c4224b56"
      },
      "outputs": [
        {
          "output_type": "stream",
          "name": "stdout",
          "text": [
            "QuizId       187.0\n",
            "Correct       16.0\n",
            "TimeTaken     10.0\n",
            "dtype: float64\n"
          ]
        }
      ],
      "source": [
        "# MEDIAN\n",
        "print(df.median(numeric_only=True))"
      ]
    },
    {
      "cell_type": "code",
      "execution_count": null,
      "metadata": {
        "colab": {
          "base_uri": "https://localhost:8080/"
        },
        "id": "bMUA21vklMh1",
        "outputId": "e7b2d3bb-7dd8-4c0f-9e0c-941ea5a1fc49"
      },
      "outputs": [
        {
          "output_type": "stream",
          "name": "stdout",
          "text": [
            "   QuizId  Correct  TimeTaken\n",
            "0     187       17         11\n"
          ]
        }
      ],
      "source": [
        "# MODE\n",
        "print(df.mode(numeric_only=True))"
      ]
    },
    {
      "cell_type": "code",
      "source": [],
      "metadata": {
        "id": "WAyl8uxyzRxe"
      },
      "execution_count": null,
      "outputs": []
    },
    {
      "cell_type": "markdown",
      "metadata": {
        "id": "Jk0DE1MLlMh1"
      },
      "source": [
        "**Q7. Find Measure of Variance: Minimum, Maximum, Range, Mean Deviation, Standard Deviation, Co-efficient of Variation**"
      ]
    },
    {
      "cell_type": "code",
      "execution_count": null,
      "metadata": {
        "colab": {
          "base_uri": "https://localhost:8080/"
        },
        "id": "kCwAP8OBlMh1",
        "outputId": "2630d30b-bdf7-4545-9e7c-02f520ec17d8"
      },
      "outputs": [
        {
          "output_type": "stream",
          "name": "stdout",
          "text": [
            "QuizId       187\n",
            "Correct        1\n",
            "TimeTaken      0\n",
            "dtype: int64\n"
          ]
        }
      ],
      "source": [
        "# Minimum\n",
        "print(df.min(numeric_only=True))"
      ]
    },
    {
      "cell_type": "code",
      "execution_count": null,
      "metadata": {
        "colab": {
          "base_uri": "https://localhost:8080/"
        },
        "id": "PUfV-FLElMh1",
        "outputId": "2046aa50-97e3-492a-f013-5a1d4b0c2804"
      },
      "outputs": [
        {
          "output_type": "stream",
          "name": "stdout",
          "text": [
            "QuizId       189\n",
            "Correct       20\n",
            "TimeTaken     20\n",
            "dtype: int64\n"
          ]
        }
      ],
      "source": [
        "# Maximum\n",
        "print(df.max(numeric_only=True))"
      ]
    },
    {
      "cell_type": "code",
      "execution_count": null,
      "metadata": {
        "colab": {
          "base_uri": "https://localhost:8080/"
        },
        "id": "ZVVFx2sDlMh2",
        "outputId": "b145a39c-0db7-4279-c3ab-e08f28587f3e"
      },
      "outputs": [
        {
          "output_type": "stream",
          "name": "stdout",
          "text": [
            "QuizId       0.0\n",
            "Correct      0.0\n",
            "TimeTaken    0.0\n",
            "dtype: float64\n"
          ]
        }
      ],
      "source": [
        "# Range\n",
        "print(df.mean(numeric_only=True)-df.mean(numeric_only=True))"
      ]
    },
    {
      "cell_type": "code",
      "execution_count": null,
      "metadata": {
        "colab": {
          "base_uri": "https://localhost:8080/"
        },
        "id": "ox7VUx6-lMh2",
        "outputId": "e4c55d96-3ac1-4fe7-e4ba-8196503ffdf6"
      },
      "outputs": [
        {
          "output_type": "stream",
          "name": "stdout",
          "text": [
            "QuizId       0.742296\n",
            "Correct      3.273500\n",
            "TimeTaken    4.943628\n",
            "dtype: float64\n"
          ]
        }
      ],
      "source": [
        "# Standard Deviation\n",
        "print(df.std(numeric_only=True))"
      ]
    },
    {
      "cell_type": "code",
      "execution_count": null,
      "metadata": {
        "colab": {
          "base_uri": "https://localhost:8080/"
        },
        "id": "VTbC2NyglMh2",
        "outputId": "6e4b6c6b-0522-4559-ef10-aedec923d317"
      },
      "outputs": [
        {
          "output_type": "stream",
          "name": "stdout",
          "text": [
            "QuizId       0.003959\n",
            "Correct      0.210602\n",
            "TimeTaken    0.508066\n",
            "dtype: float64\n"
          ]
        }
      ],
      "source": [
        "# Co-effienct of Variation\n",
        "print(df.std(numeric_only=True)/df.mean(numeric_only=True))"
      ]
    },
    {
      "cell_type": "markdown",
      "metadata": {
        "id": "_VoEAsuPlMh2"
      },
      "source": [
        "**Q8. Measures of Position: Standard Scores, Inter-quartile Range for Degree, Inter and 10th**"
      ]
    },
    {
      "cell_type": "code",
      "execution_count": null,
      "metadata": {
        "colab": {
          "base_uri": "https://localhost:8080/"
        },
        "id": "_mFpSMTXlMh3",
        "outputId": "803deaaa-07d9-47e5-963f-ef4b76857199"
      },
      "outputs": [
        {
          "output_type": "execute_result",
          "data": {
            "text/plain": [
              "QuizId       187.0\n",
              "Correct       14.0\n",
              "TimeTaken      6.0\n",
              "Name: 0.25, dtype: float64"
            ]
          },
          "metadata": {},
          "execution_count": 60
        }
      ],
      "source": [
        "# 1st Quartile\n",
        "q1=df.quantile(q=0.25)\n",
        "q1"
      ]
    },
    {
      "cell_type": "code",
      "execution_count": null,
      "metadata": {
        "colab": {
          "base_uri": "https://localhost:8080/"
        },
        "id": "lf_UBDvUlMh3",
        "outputId": "a139095e-9c58-4474-b760-82f4f10286bd"
      },
      "outputs": [
        {
          "output_type": "execute_result",
          "data": {
            "text/plain": [
              "QuizId       187.0\n",
              "Correct       16.0\n",
              "TimeTaken     10.0\n",
              "Name: 0.5, dtype: float64"
            ]
          },
          "metadata": {},
          "execution_count": 59
        }
      ],
      "source": [
        "# 2nd Quartile or Median\n",
        "q2=df.quantile(0.5)\n",
        "q2"
      ]
    },
    {
      "cell_type": "code",
      "execution_count": null,
      "metadata": {
        "colab": {
          "base_uri": "https://localhost:8080/"
        },
        "id": "XUVXmJtJlMh3",
        "outputId": "fab07337-b9c7-459e-a078-39b627d86402"
      },
      "outputs": [
        {
          "output_type": "execute_result",
          "data": {
            "text/plain": [
              "QuizId       187.0\n",
              "Correct       14.0\n",
              "TimeTaken      6.0\n",
              "Name: 0.25, dtype: float64"
            ]
          },
          "metadata": {},
          "execution_count": 57
        }
      ],
      "source": [
        "# 3rd Quartile\n",
        "q3=df.quantile(0.25)\n",
        "q3"
      ]
    },
    {
      "cell_type": "code",
      "execution_count": null,
      "metadata": {
        "colab": {
          "base_uri": "https://localhost:8080/"
        },
        "id": "Bs-D5VQylMh3",
        "outputId": "83750f3f-7ebb-4d94-9563-b7bedfe95fc2"
      },
      "outputs": [
        {
          "output_type": "execute_result",
          "data": {
            "text/plain": [
              "QuizId       0.0\n",
              "Correct      0.0\n",
              "TimeTaken    0.0\n",
              "Name: 0.25, dtype: float64"
            ]
          },
          "metadata": {},
          "execution_count": 61
        }
      ],
      "source": [
        "# Inter-Quartile = Q3 - Q1\n",
        "iqr=q3-q1\n",
        "iqr"
      ]
    },
    {
      "cell_type": "markdown",
      "metadata": {
        "id": "eqE735SVlMh3"
      },
      "source": [
        "**Q9. Create Box Plot and Identify Outliers**"
      ]
    },
    {
      "cell_type": "code",
      "execution_count": null,
      "metadata": {
        "colab": {
          "base_uri": "https://localhost:8080/",
          "height": 282
        },
        "id": "EJIxAU9clMh3",
        "outputId": "6e9efa94-5e2a-4be9-f56c-9feeddb0dae8"
      },
      "outputs": [
        {
          "output_type": "execute_result",
          "data": {
            "text/plain": [
              "<matplotlib.axes._subplots.AxesSubplot at 0x7f63c8c0d190>"
            ]
          },
          "metadata": {},
          "execution_count": 25
        },
        {
          "output_type": "display_data",
          "data": {
            "text/plain": [
              "<Figure size 432x288 with 1 Axes>"
            ],
            "image/png": "[encoded data removed]"
          },
          "metadata": {
            "needs_background": "light"
          }
        }
      ],
      "source": [
        "df[['QuizId','TimeTaken','Correct']].plot.box()"
      ]
    },
    {
      "cell_type": "markdown",
      "metadata": {
        "id": "Lbj97OxBlMh4"
      },
      "source": [
        "**Q10. Identify and Listout Outliers**"
      ]
    },
    {
      "cell_type": "code",
      "source": [
        "def find_outliers_IQR(df):\n",
        "\n",
        "   q1=df.quantile(0.25)\n",
        "\n",
        "   q3=df.quantile(0.75)\n",
        "\n",
        "   IQR=q3-q1\n",
        "\n",
        "   outliers = df[((df<(q1-1.5*IQR)) | (df>(q3+1.5*IQR)))]\n",
        "\n",
        "   return outliers"
      ],
      "metadata": {
        "id": "TYnzNSqxO_tt"
      },
      "execution_count": null,
      "outputs": []
    },
    {
      "cell_type": "code",
      "source": [
        "find_outliers_IQR(df['Correct'])"
      ],
      "metadata": {
        "colab": {
          "base_uri": "https://localhost:8080/"
        },
        "id": "EjxzAgGBWwJt",
        "outputId": "331e4135-cb68-4f84-f228-cb9207d9e0b7"
      },
      "execution_count": null,
      "outputs": [
        {
          "output_type": "execute_result",
          "data": {
            "text/plain": [
              "20     1\n",
              "67     1\n",
              "71     1\n",
              "85     6\n",
              "100    2\n",
              "170    2\n",
              "Name: Correct, dtype: int64"
            ]
          },
          "metadata": {},
          "execution_count": 46
        }
      ]
    },
    {
      "cell_type": "code",
      "source": [
        "find_outliers_IQR(df['TimeTaken'])"
      ],
      "metadata": {
        "colab": {
          "base_uri": "https://localhost:8080/"
        },
        "id": "W_LCRL6_ZimK",
        "outputId": "ff0b951d-e5ae-47f3-908b-e55956362a2e"
      },
      "execution_count": null,
      "outputs": [
        {
          "output_type": "execute_result",
          "data": {
            "text/plain": [
              "Series([], Name: TimeTaken, dtype: int64)"
            ]
          },
          "metadata": {},
          "execution_count": 47
        }
      ]
    },
    {
      "cell_type": "code",
      "source": [
        "find_outliers_IQR(df['QuizId'])"
      ],
      "metadata": {
        "colab": {
          "base_uri": "https://localhost:8080/"
        },
        "id": "2bK1-xFaZpTt",
        "outputId": "976cf353-6c13-4c8b-b247-d41bfb2fc15c"
      },
      "execution_count": null,
      "outputs": [
        {
          "output_type": "execute_result",
          "data": {
            "text/plain": [
              "Series([], Name: QuizId, dtype: int64)"
            ]
          },
          "metadata": {},
          "execution_count": 49
        }
      ]
    }
  ],
  "metadata": {
    "colab": {
      "collapsed_sections": [],
      "provenance": [],
      "include_colab_link": true
    },
    "kernelspec": {
      "display_name": "conda_python3",
      "language": "python",
      "name": "conda_python3"
    },
    "language_info": {
      "codemirror_mode": {
        "name": "ipython",
        "version": 3
      },
      "file_extension": ".py",
      "mimetype": "text/x-python",
      "name": "python",
      "nbconvert_exporter": "python",
      "pygments_lexer": "ipython3",
      "version": "3.8.12"
    }
  },
  "nbformat": 4,
  "nbformat_minor": 0
}